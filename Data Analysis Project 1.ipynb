{
 "cells": [
  {
   "cell_type": "markdown",
   "id": "2c9442fa-72d7-4c3d-912d-c6e361cb6289",
   "metadata": {},
   "source": [
    "### Project 1: Sales Data Analysis\n",
    "#### Goal: Analyze sales trends, revenue, and product performance.\n",
    "#### Skills Used: Pandas, SQL, Matplotlib/Seaborn\n",
    "#### Dataset: [Kaggle - Superstore Sales Data](https://www.kaggle.com/datasets/vivek468/superstore-dataset-final/data)"
   ]
  },
  {
   "cell_type": "markdown",
   "id": "d3bd2549-d49e-4700-a527-11d684b396aa",
   "metadata": {},
   "source": [
    "### Step 1: Load and Explore Data\n",
    "#### 📌 Technique: Use Pandas to read and understand the dataset.\n",
    "#### ✅ Key Insights: Identify missing values, column types, and overall structure."
   ]
  },
  {
   "cell_type": "code",
   "execution_count": 1,
   "id": "f87feef8-634e-40aa-b9cc-0495f41ad783",
   "metadata": {},
   "outputs": [],
   "source": [
    "import pandas as pd"
   ]
  },
  {
   "cell_type": "code",
   "execution_count": 2,
   "id": "0577eef9-7fc3-48a6-ac1f-22fd871cd556",
   "metadata": {},
   "outputs": [],
   "source": [
    "# Load dataset\n",
    "df = pd.read_csv(\"superstore_sales.csv\", encoding=\"latin-1\")"
   ]
  },
  {
   "cell_type": "code",
   "execution_count": 3,
   "id": "2a989016-9357-45ed-bbe0-c8eacd6c145b",
   "metadata": {},
   "outputs": [
    {
     "name": "stdout",
     "output_type": "stream",
     "text": [
      "   Row ID        Order ID  Order Date   Ship Date       Ship Mode Customer ID  \\\n",
      "0       1  CA-2016-152156   11/8/2016  11/11/2016    Second Class    CG-12520   \n",
      "1       2  CA-2016-152156   11/8/2016  11/11/2016    Second Class    CG-12520   \n",
      "2       3  CA-2016-138688   6/12/2016   6/16/2016    Second Class    DV-13045   \n",
      "3       4  US-2015-108966  10/11/2015  10/18/2015  Standard Class    SO-20335   \n",
      "4       5  US-2015-108966  10/11/2015  10/18/2015  Standard Class    SO-20335   \n",
      "\n",
      "     Customer Name    Segment        Country             City  ...  \\\n",
      "0      Claire Gute   Consumer  United States        Henderson  ...   \n",
      "1      Claire Gute   Consumer  United States        Henderson  ...   \n",
      "2  Darrin Van Huff  Corporate  United States      Los Angeles  ...   \n",
      "3   Sean O'Donnell   Consumer  United States  Fort Lauderdale  ...   \n",
      "4   Sean O'Donnell   Consumer  United States  Fort Lauderdale  ...   \n",
      "\n",
      "  Postal Code  Region       Product ID         Category Sub-Category  \\\n",
      "0       42420   South  FUR-BO-10001798        Furniture    Bookcases   \n",
      "1       42420   South  FUR-CH-10000454        Furniture       Chairs   \n",
      "2       90036    West  OFF-LA-10000240  Office Supplies       Labels   \n",
      "3       33311   South  FUR-TA-10000577        Furniture       Tables   \n",
      "4       33311   South  OFF-ST-10000760  Office Supplies      Storage   \n",
      "\n",
      "                                        Product Name     Sales  Quantity  \\\n",
      "0                  Bush Somerset Collection Bookcase  261.9600         2   \n",
      "1  Hon Deluxe Fabric Upholstered Stacking Chairs,...  731.9400         3   \n",
      "2  Self-Adhesive Address Labels for Typewriters b...   14.6200         2   \n",
      "3      Bretford CR4500 Series Slim Rectangular Table  957.5775         5   \n",
      "4                     Eldon Fold 'N Roll Cart System   22.3680         2   \n",
      "\n",
      "   Discount    Profit  \n",
      "0      0.00   41.9136  \n",
      "1      0.00  219.5820  \n",
      "2      0.00    6.8714  \n",
      "3      0.45 -383.0310  \n",
      "4      0.20    2.5164  \n",
      "\n",
      "[5 rows x 21 columns]\n"
     ]
    }
   ],
   "source": [
    "# Display first 5 rows\n",
    "print(df.head())"
   ]
  },
  {
   "cell_type": "code",
   "execution_count": 4,
   "id": "d859ed2a-efc8-472b-af4a-6f83fae1a5fb",
   "metadata": {},
   "outputs": [
    {
     "name": "stdout",
     "output_type": "stream",
     "text": [
      "(9994, 21)\n"
     ]
    }
   ],
   "source": [
    "print(df.shape)"
   ]
  },
  {
   "cell_type": "code",
   "execution_count": 5,
   "id": "cfc025a5-ed19-41e4-a152-063e9dc33956",
   "metadata": {},
   "outputs": [
    {
     "name": "stdout",
     "output_type": "stream",
     "text": [
      "<class 'pandas.core.frame.DataFrame'>\n",
      "RangeIndex: 9994 entries, 0 to 9993\n",
      "Data columns (total 21 columns):\n",
      " #   Column         Non-Null Count  Dtype  \n",
      "---  ------         --------------  -----  \n",
      " 0   Row ID         9994 non-null   int64  \n",
      " 1   Order ID       9994 non-null   object \n",
      " 2   Order Date     9994 non-null   object \n",
      " 3   Ship Date      9994 non-null   object \n",
      " 4   Ship Mode      9994 non-null   object \n",
      " 5   Customer ID    9994 non-null   object \n",
      " 6   Customer Name  9994 non-null   object \n",
      " 7   Segment        9994 non-null   object \n",
      " 8   Country        9994 non-null   object \n",
      " 9   City           9994 non-null   object \n",
      " 10  State          9994 non-null   object \n",
      " 11  Postal Code    9994 non-null   int64  \n",
      " 12  Region         9994 non-null   object \n",
      " 13  Product ID     9994 non-null   object \n",
      " 14  Category       9994 non-null   object \n",
      " 15  Sub-Category   9994 non-null   object \n",
      " 16  Product Name   9994 non-null   object \n",
      " 17  Sales          9994 non-null   float64\n",
      " 18  Quantity       9994 non-null   int64  \n",
      " 19  Discount       9994 non-null   float64\n",
      " 20  Profit         9994 non-null   float64\n",
      "dtypes: float64(3), int64(3), object(15)\n",
      "memory usage: 1.6+ MB\n",
      "None\n"
     ]
    }
   ],
   "source": [
    "# Check dataset information\n",
    "print(df.info())"
   ]
  },
  {
   "cell_type": "code",
   "execution_count": 6,
   "id": "984bfd50-2fc7-441f-8341-b7dbc4ff296f",
   "metadata": {},
   "outputs": [
    {
     "name": "stdout",
     "output_type": "stream",
     "text": [
      "Row ID           0\n",
      "Order ID         0\n",
      "Order Date       0\n",
      "Ship Date        0\n",
      "Ship Mode        0\n",
      "Customer ID      0\n",
      "Customer Name    0\n",
      "Segment          0\n",
      "Country          0\n",
      "City             0\n",
      "State            0\n",
      "Postal Code      0\n",
      "Region           0\n",
      "Product ID       0\n",
      "Category         0\n",
      "Sub-Category     0\n",
      "Product Name     0\n",
      "Sales            0\n",
      "Quantity         0\n",
      "Discount         0\n",
      "Profit           0\n",
      "dtype: int64\n"
     ]
    }
   ],
   "source": [
    "# Check missing values\n",
    "print(df.isnull().sum())"
   ]
  },
  {
   "cell_type": "markdown",
   "id": "04365045-cea0-4912-9f48-79077a4f01ad",
   "metadata": {},
   "source": [
    "### Step 2: Data Cleaning\n",
    "#### 📌 Technique: Handle missing values and remove duplicates.\n",
    "#### ✅ Key Insights: Ensures clean data for accurate analysis."
   ]
  },
  {
   "cell_type": "code",
   "execution_count": 7,
   "id": "04cb93b8-6d15-4516-b90a-3cd9db92ff67",
   "metadata": {},
   "outputs": [],
   "source": [
    "# Drop unnecessary columns\n",
    "df.drop([\"Row ID\", \"Postal Code\"], axis=1, inplace=True)"
   ]
  },
  {
   "cell_type": "code",
   "execution_count": 8,
   "id": "87830761-6fa4-4eba-91c9-ec0c6690beb9",
   "metadata": {},
   "outputs": [
    {
     "name": "stderr",
     "output_type": "stream",
     "text": [
      "C:\\Users\\Zala Sheshang\\AppData\\Local\\Temp\\ipykernel_992\\990768394.py:2: FutureWarning: DataFrame.fillna with 'method' is deprecated and will raise in a future version. Use obj.ffill() or obj.bfill() instead.\n",
      "  df.fillna(method=\"ffill\", inplace=True)\n"
     ]
    }
   ],
   "source": [
    "# Fill missing values (if any)\n",
    "df.fillna(method=\"ffill\", inplace=True)"
   ]
  },
  {
   "cell_type": "code",
   "execution_count": 9,
   "id": "0f8f4d5b-8498-482e-a87c-8157d9eea7c1",
   "metadata": {},
   "outputs": [],
   "source": [
    "# Remove duplicate records\n",
    "df.drop_duplicates(inplace=True)"
   ]
  },
  {
   "cell_type": "code",
   "execution_count": 10,
   "id": "11cb348a-2a7d-4caa-aada-9add4e3d4a78",
   "metadata": {},
   "outputs": [
    {
     "name": "stdout",
     "output_type": "stream",
     "text": [
      "Order ID         0\n",
      "Order Date       0\n",
      "Ship Date        0\n",
      "Ship Mode        0\n",
      "Customer ID      0\n",
      "Customer Name    0\n",
      "Segment          0\n",
      "Country          0\n",
      "City             0\n",
      "State            0\n",
      "Region           0\n",
      "Product ID       0\n",
      "Category         0\n",
      "Sub-Category     0\n",
      "Product Name     0\n",
      "Sales            0\n",
      "Quantity         0\n",
      "Discount         0\n",
      "Profit           0\n",
      "dtype: int64\n"
     ]
    }
   ],
   "source": [
    "# Verify changes 1\n",
    "print(df.isnull().sum())"
   ]
  },
  {
   "cell_type": "code",
   "execution_count": 11,
   "id": "36c5d2dc-266d-4356-a6d9-c9ea423985c7",
   "metadata": {},
   "outputs": [
    {
     "name": "stdout",
     "output_type": "stream",
     "text": [
      "0\n"
     ]
    }
   ],
   "source": [
    "# Verify changes 2\n",
    "print(df.duplicated().sum())\n"
   ]
  },
  {
   "cell_type": "markdown",
   "id": "413f0907-ee14-4b75-a15c-dddd223f6e5b",
   "metadata": {},
   "source": [
    "### Step 3: Sales Performance Analysis\n",
    "#### 📌 Technique: Use SQL-like Pandas operations to analyze revenue trends.\n",
    "#### ✅ Key Insights: Identifies the most profitable categories and products."
   ]
  },
  {
   "cell_type": "code",
   "execution_count": 12,
   "id": "dd8dfd3f-7693-4041-bf22-7e37ecb2b7f5",
   "metadata": {},
   "outputs": [
    {
     "name": "stdout",
     "output_type": "stream",
     "text": [
      "Total Revenue: $2296919.4883\n"
     ]
    }
   ],
   "source": [
    "# Total revenue\n",
    "total_revenue = df[\"Sales\"].sum()\n",
    "print(f\"Total Revenue: ${total_revenue:.4f}\")"
   ]
  },
  {
   "cell_type": "code",
   "execution_count": 13,
   "id": "ef2b8250-7b8f-461f-acf1-ed9086972e70",
   "metadata": {},
   "outputs": [
    {
     "name": "stdout",
     "output_type": "stream",
     "text": [
      "          Category        Sales\n",
      "0        Furniture  741718.4233\n",
      "1  Office Supplies  719047.0320\n",
      "2       Technology  836154.0330\n"
     ]
    }
   ],
   "source": [
    "# Sales by Category\n",
    "category_sales = df.groupby(\"Category\")[\"Sales\"].sum().reset_index()\n",
    "print(category_sales)"
   ]
  },
  {
   "cell_type": "code",
   "execution_count": 14,
   "id": "aecefbe4-2aba-4592-8163-20a95dad9055",
   "metadata": {},
   "outputs": [
    {
     "name": "stdout",
     "output_type": "stream",
     "text": [
      "Product Name\n",
      "Canon imageCLASS 2200 Advanced Copier                                          61599.824\n",
      "Fellowes PB500 Electric Punch Plastic Comb Binding Machine with Manual Bind    27453.384\n",
      "Cisco TelePresence System EX90 Videoconferencing Unit                          22638.480\n",
      "HON 5400 Series Task Chairs for Big and Tall                                   21870.576\n",
      "GBC DocuBind TL300 Electric Binding System                                     19823.479\n",
      "GBC Ibimaster 500 Manual ProClick Binding System                               19024.500\n",
      "Hewlett Packard LaserJet 3310 Copier                                           18839.686\n",
      "HP Designjet T520 Inkjet Large Format Printer - 24\" Color                      18374.895\n",
      "GBC DocuBind P400 Electric Binding System                                      17965.068\n",
      "High Speed Automatic Electric Letter Opener                                    17030.312\n",
      "Name: Sales, dtype: float64\n"
     ]
    }
   ],
   "source": [
    "# Top 10 best-selling products\n",
    "top_products = df.groupby(\"Product Name\")[\"Sales\"].sum().sort_values(ascending=False).head(10)\n",
    "print(top_products)"
   ]
  },
  {
   "cell_type": "markdown",
   "id": "b7454f42-2a9e-48f1-94a1-53ad4864a438",
   "metadata": {},
   "source": [
    "### Step 4: Visualization of Sales Trends\n",
    "#### 📌 Technique: Use Matplotlib and Seaborn to visualize revenue and product performance.\n",
    "#### ✅ *Key Insights:* Helps visualize sales patterns and identify seasonal trends."
   ]
  },
  {
   "cell_type": "code",
   "execution_count": 15,
   "id": "ba714712-8b61-4d1c-9a03-d699f8fd9034",
   "metadata": {},
   "outputs": [],
   "source": [
    "import matplotlib.pyplot as plt\n",
    "import seaborn as sns"
   ]
  },
  {
   "cell_type": "code",
   "execution_count": 16,
   "id": "b7baf3ae-761e-4b6e-a941-77784fe2f6a8",
   "metadata": {},
   "outputs": [
    {
     "name": "stderr",
     "output_type": "stream",
     "text": [
      "C:\\Users\\Zala Sheshang\\AppData\\Local\\Temp\\ipykernel_992\\3482529554.py:3: FutureWarning: \n",
      "\n",
      "Passing `palette` without assigning `hue` is deprecated and will be removed in v0.14.0. Assign the `x` variable to `hue` and set `legend=False` for the same effect.\n",
      "\n",
      "  sns.barplot(x=\"Category\", y=\"Sales\", data=category_sales, palette=\"Blues\")\n"
     ]
    },
    {
     "data": {
      "image/png": "[encoded data removed]",
      "text/plain": [
       "<Figure size 800x500 with 1 Axes>"
      ]
     },
     "metadata": {},
     "output_type": "display_data"
    }
   ],
   "source": [
    "# Bar plot for sales by category\n",
    "plt.figure(figsize=(8,5))\n",
    "sns.barplot(x=\"Category\", y=\"Sales\", data=category_sales, palette=\"Blues\")\n",
    "plt.title(\"Total Sales by Category\")\n",
    "plt.show()"
   ]
  },
  {
   "cell_type": "code",
   "execution_count": 17,
   "id": "32001448-0dfb-450d-8a8a-798b8bd4aabb",
   "metadata": {},
   "outputs": [
    {
     "data": {
      "image/png": "[encoded data removed]",
      "text/plain": [
       "<Figure size 1000x500 with 1 Axes>"
      ]
     },
     "metadata": {},
     "output_type": "display_data"
    }
   ],
   "source": [
    "# Line plot for sales over time\n",
    "df[\"Order Date\"] = pd.to_datetime(df[\"Order Date\"])\n",
    "df.set_index(\"Order Date\", inplace=True)\n",
    "monthly_sales = df.resample(\"ME\")[\"Sales\"].sum()\n",
    "\n",
    "plt.figure(figsize=(10,5))\n",
    "plt.plot(monthly_sales.index, monthly_sales.values, marker=\"o\", linestyle=\"-\", color=\"b\")\n",
    "plt.title(\"Monthly Sales Trend\")\n",
    "plt.xlabel(\"Month\")\n",
    "plt.ylabel(\"Sales\")\n",
    "plt.show()"
   ]
  },
  {
   "cell_type": "markdown",
   "id": "887bbf50-03c0-4863-a0a5-5c74841ee93c",
   "metadata": {},
   "source": [
    "### Step 5: SQL Query for Region-Wise Sales\n",
    "#### 📌 Technique: Use SQLite to run SQL queries inside Python.\n",
    "#### ✅ Key Insights: Shows regional sales performance"
   ]
  },
  {
   "cell_type": "code",
   "execution_count": 18,
   "id": "47afc08d-bcab-4ea4-b002-39a5ecbd9658",
   "metadata": {},
   "outputs": [],
   "source": [
    "import sqlite3"
   ]
  },
  {
   "cell_type": "code",
   "execution_count": 19,
   "id": "11862a88-304f-402b-96e5-c63ec52c58b2",
   "metadata": {},
   "outputs": [
    {
     "data": {
      "text/plain": [
       "9993"
      ]
     },
     "execution_count": 19,
     "metadata": {},
     "output_type": "execute_result"
    }
   ],
   "source": [
    "# Create a database and load data\n",
    "conn = sqlite3.connect(\"sales_data.db\")\n",
    "df.to_sql(\"sales\", conn, if_exists=\"replace\", index=False)"
   ]
  },
  {
   "cell_type": "code",
   "execution_count": 20,
   "id": "9c76164d-4f40-4bb0-bbfa-e81da4413065",
   "metadata": {},
   "outputs": [
    {
     "name": "stdout",
     "output_type": "stream",
     "text": [
      "    Region  Total_Sales\n",
      "0     West  725457.8245\n",
      "1     East  678499.8680\n",
      "2  Central  501239.8908\n",
      "3    South  391721.9050\n"
     ]
    }
   ],
   "source": [
    "# SQL Query to find sales by region\n",
    "query = \"SELECT Region, SUM(Sales) AS Total_Sales FROM sales GROUP BY Region ORDER BY Total_Sales DESC;\"\n",
    "result = pd.read_sql(query, conn)\n",
    "\n",
    "print(result)"
   ]
  },
  {
   "cell_type": "markdown",
   "id": "e8e8d866-0e0d-4486-a973-e3b421239a8c",
   "metadata": {},
   "source": [
    "### Project Outcome:\n",
    "#### - Found total revenue and best-performing products.\n",
    "#### - Identified seasonal sales trends.\n",
    "#### - Visualized sales by category and region.\n",
    "#### - Used SQL for in-depth data analysis.\n"
   ]
  },
  {
   "cell_type": "code",
   "execution_count": null,
   "id": "fc3802b8-66bc-4ee5-baf4-f752f42e6c62",
   "metadata": {},
   "outputs": [],
   "source": []
  }
 ],
 "metadata": {
  "kernelspec": {
   "display_name": "Python 3",
   "language": "python",
   "name": "python3"
  },
  "language_info": {
   "codemirror_mode": {
    "name": "ipython",
    "version": 3
   },
   "file_extension": ".py",
   "mimetype": "text/x-python",
   "name": "python",
   "nbconvert_exporter": "python",
   "pygments_lexer": "ipython3",
   "version": "3.12.7"
  }
 },
 "nbformat": 4,
 "nbformat_minor": 5
}
